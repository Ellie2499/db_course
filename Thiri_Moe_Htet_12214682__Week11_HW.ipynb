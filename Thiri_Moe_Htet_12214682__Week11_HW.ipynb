{
  "nbformat": 4,
  "nbformat_minor": 0,
  "metadata": {
    "colab": {
      "provenance": [],
      "authorship_tag": "ABX9TyNx4iu/WPjxdiPCz//ljx/d",
      "include_colab_link": true
    },
    "kernelspec": {
      "name": "python3",
      "display_name": "Python 3"
    },
    "language_info": {
      "name": "python"
    }
  },
  "cells": [
    {
      "cell_type": "markdown",
      "metadata": {
        "id": "view-in-github",
        "colab_type": "text"
      },
      "source": [
        "<a href=\"https://colab.research.google.com/github/Ellie2499/db_course/blob/main/Thiri_Moe_Htet_12214682__Week11_HW.ipynb\" target=\"_parent\"><img src=\"https://colab.research.google.com/assets/colab-badge.svg\" alt=\"Open In Colab\"/></a>"
      ]
    },
    {
      "cell_type": "code",
      "execution_count": 1,
      "metadata": {
        "colab": {
          "base_uri": "https://localhost:8080/"
        },
        "id": "dDBwbllYj2GJ",
        "outputId": "3d98179a-69c3-42e2-a17f-dc41c04a39ad"
      },
      "outputs": [
        {
          "output_type": "stream",
          "name": "stdout",
          "text": [
            "Contents of the 'student' table:\n",
            "(1, 'John Deo', 'Four', 75, 'female')\n",
            "(2, 'Max Ruin', 'Three', 85, 'male')\n",
            "(3, 'Arnold', 'Three', 55, 'male')\n",
            "(4, 'Krish Star', 'Four', 60, 'female')\n",
            "(5, 'John Mike', 'Four', 60, 'female')\n",
            "(6, 'Alex John', 'Four', 55, 'male')\n",
            "(7, 'My John Rob', 'Five', 78, 'male')\n",
            "(8, 'Asruid', 'Five', 85, 'male')\n",
            "(9, 'Tes Qry', 'Six', 78, 'male')\n",
            "(10, 'Big John', 'Four', 55, 'female')\n",
            "(11, 'Ronald', 'Six', 89, 'female')\n",
            "(27, 'Big Nose', 'Three', 81, 'female')\n",
            "(28, 'Rojj Base', 'Seven', 86, 'female')\n",
            "(29, 'Tess Played', 'Seven', 55, 'male')\n",
            "(30, 'Reppy Red', 'Six', 79, 'female')\n",
            "(31, 'Marry Toeey', 'Four', 88, 'male')\n",
            "(32, 'Binn Rott', 'Seven', 90, 'female')\n",
            "(33, 'Kenn Rein', 'Six', 96, 'female')\n",
            "(34, 'Gain Toe', 'Seven', 69, 'male')\n",
            "(35, 'Rows Noump', 'Six', 88, 'female')\n",
            "\n",
            "Grade Distribution:\n",
            "('A', 2)\n",
            "('B', 7)\n",
            "('C', 4)\n",
            "('D', 3)\n",
            "('E', 4)\n"
          ]
        }
      ],
      "source": [
        "import sqlite3\n",
        "\n",
        "# Create a database connection\n",
        "conn = sqlite3.connect('students.db')\n",
        "c = conn.cursor()\n",
        "\n",
        "# Create the \"student\" table if it doesn't exist\n",
        "c.execute(\"\"\"CREATE TABLE IF NOT EXISTS student (\n",
        "    id INTEGER PRIMARY KEY,\n",
        "    name TEXT,\n",
        "    class TEXT,\n",
        "    mark INTEGER,\n",
        "    sex TEXT\n",
        ")\"\"\")\n",
        "\n",
        "# Student data\n",
        "student_data = [\n",
        "    (1, 'John Deo', 'Four', 75, 'female'),\n",
        "    (2, 'Max Ruin', 'Three', 85, 'male'),\n",
        "    (3, 'Arnold', 'Three', 55, 'male'),\n",
        "    (4, 'Krish Star', 'Four', 60, 'female'),\n",
        "    (5, 'John Mike', 'Four', 60, 'female'),\n",
        "    (6, 'Alex John', 'Four', 55, 'male'),\n",
        "    (7, 'My John Rob', 'Five', 78, 'male'),\n",
        "    (8, 'Asruid', 'Five', 85, 'male'),\n",
        "    (9, 'Tes Qry', 'Six', 78, 'male'),\n",
        "    (10, 'Big John', 'Four', 55, 'female'),\n",
        "    (11, 'Ronald', 'Six', 89, 'female'),\n",
        "    (27, 'Big Nose', 'Three', 81, 'female'),\n",
        "    (28, 'Rojj Base', 'Seven', 86, 'female'),\n",
        "    (29, 'Tess Played', 'Seven', 55, 'male'),\n",
        "    (30, 'Reppy Red', 'Six', 79, 'female'),\n",
        "    (31, 'Marry Toeey', 'Four', 88, 'male'),\n",
        "    (32, 'Binn Rott', 'Seven', 90, 'female'),\n",
        "    (33, 'Kenn Rein', 'Six', 96, 'female'),\n",
        "    (34, 'Gain Toe', 'Seven', 69, 'male'),\n",
        "    (35, 'Rows Noump', 'Six', 88, 'female')\n",
        "]\n",
        "\n",
        "# Insert data into the \"student\" table\n",
        "c.executemany(\"INSERT INTO student (id, name, class, mark, sex) VALUES (?, ?, ?, ?, ?)\", student_data)\n",
        "\n",
        "# Commit the changes\n",
        "conn.commit()\n",
        "\n",
        "# Retrieve and print the contents of the \"student\" table\n",
        "c.execute(\"SELECT * FROM student\")\n",
        "rows = c.fetchall()\n",
        "\n",
        "print(\"Contents of the 'student' table:\")\n",
        "for row in rows:\n",
        "    print(row)\n",
        "\n",
        "# Calculate and print the grade distribution\n",
        "c.execute(\"\"\"SELECT\n",
        "                CASE\n",
        "                    WHEN mark < 60 THEN 'E'\n",
        "                    WHEN mark < 70 THEN 'D'\n",
        "                    WHEN mark < 80 THEN 'C'\n",
        "                    WHEN mark < 90 THEN 'B'\n",
        "                    WHEN mark < 100 THEN 'A'\n",
        "                    ELSE 'F'\n",
        "                END AS status,\n",
        "                COUNT(ID)\n",
        "            FROM student\n",
        "            GROUP BY status;\"\"\")\n",
        "\n",
        "results = c.fetchall()\n",
        "\n",
        "print(\"\\nGrade Distribution:\")\n",
        "for row in results:\n",
        "    print(row)\n",
        "\n",
        "# Close the connection\n",
        "conn.close()\n"
      ]
    }
  ]
}