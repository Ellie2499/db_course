{
  "nbformat": 4,
  "nbformat_minor": 0,
  "metadata": {
    "colab": {
      "provenance": [],
      "authorship_tag": "ABX9TyMyZl+tYgMi55tq33o6pcAS",
      "include_colab_link": true
    },
    "kernelspec": {
      "name": "python3",
      "display_name": "Python 3"
    },
    "language_info": {
      "name": "python"
    }
  },
  "cells": [
    {
      "cell_type": "markdown",
      "metadata": {
        "id": "view-in-github",
        "colab_type": "text"
      },
      "source": [
        "<a href=\"https://colab.research.google.com/github/Ellie2499/db_course/blob/main/WEEK13_LAB_SESSION.ipynb\" target=\"_parent\"><img src=\"https://colab.research.google.com/assets/colab-badge.svg\" alt=\"Open In Colab\"/></a>"
      ]
    },
    {
      "cell_type": "code",
      "execution_count": 1,
      "metadata": {
        "id": "QJbx5B95EZLd"
      },
      "outputs": [],
      "source": [
        "import sqlite3"
      ]
    },
    {
      "cell_type": "code",
      "source": [
        "conn=sqlite3.connect('example.db')\n",
        "c=conn.cursor()"
      ],
      "metadata": {
        "id": "7RlIKAokEeRK"
      },
      "execution_count": 2,
      "outputs": []
    },
    {
      "cell_type": "code",
      "source": [
        "c.execute('''CREATE TABLE IF NOT EXISTS employees (id INTEGER PRIMARY KEY, name TEXT, department TEXT, salary INTEGER)''')"
      ],
      "metadata": {
        "colab": {
          "base_uri": "https://localhost:8080/"
        },
        "id": "kI0wtyZ2ElCQ",
        "outputId": "c8af9b73-cce4-46a5-db65-c65eb1c4d1e3"
      },
      "execution_count": 3,
      "outputs": [
        {
          "output_type": "execute_result",
          "data": {
            "text/plain": [
              "<sqlite3.Cursor at 0x7c72ff587c40>"
            ]
          },
          "metadata": {},
          "execution_count": 3
        }
      ]
    },
    {
      "cell_type": "code",
      "source": [
        "sample_data=[(1,'Alice', 'HR', 70000), (2, 'Bob', 'Engineering', 80000) , (3, 'Charlie', 'HR', 75000 )]"
      ],
      "metadata": {
        "id": "l1viFazyFAKx"
      },
      "execution_count": 4,
      "outputs": []
    },
    {
      "cell_type": "code",
      "source": [
        "c.executemany('INSERT INTO employees VALUES (?,?,?,?)', sample_data)"
      ],
      "metadata": {
        "colab": {
          "base_uri": "https://localhost:8080/"
        },
        "id": "kzIfnP9aFaBX",
        "outputId": "54989f62-71b6-48ee-f5b4-7f9770500210"
      },
      "execution_count": 5,
      "outputs": [
        {
          "output_type": "execute_result",
          "data": {
            "text/plain": [
              "<sqlite3.Cursor at 0x7c72ff587c40>"
            ]
          },
          "metadata": {},
          "execution_count": 5
        }
      ]
    },
    {
      "cell_type": "code",
      "source": [
        "c.execute('CREATE INDEX idx_department ON employees (department)')"
      ],
      "metadata": {
        "colab": {
          "base_uri": "https://localhost:8080/"
        },
        "id": "wR9_XsS3FkqA",
        "outputId": "e2c8b2d4-f9ce-4aa3-a3ba-8d2e2d2b8d3c"
      },
      "execution_count": 6,
      "outputs": [
        {
          "output_type": "execute_result",
          "data": {
            "text/plain": [
              "<sqlite3.Cursor at 0x7c72ff587c40>"
            ]
          },
          "metadata": {},
          "execution_count": 6
        }
      ]
    },
    {
      "cell_type": "code",
      "source": [
        "c.execute('SELECT * FROM employees WHERE department=\"HR\"')\n",
        "print(\"Query plan with index:\", c.fetchall())"
      ],
      "metadata": {
        "colab": {
          "base_uri": "https://localhost:8080/"
        },
        "id": "7rG6Kf5RFt9r",
        "outputId": "ccdab422-fe27-4313-ad1d-2e519d08544b"
      },
      "execution_count": 7,
      "outputs": [
        {
          "output_type": "stream",
          "name": "stdout",
          "text": [
            "Query plan with index: [(1, 'Alice', 'HR', 70000), (3, 'Charlie', 'HR', 75000)]\n"
          ]
        }
      ]
    },
    {
      "cell_type": "code",
      "source": [
        "c.execute('DROP INDEX idx_department')"
      ],
      "metadata": {
        "colab": {
          "base_uri": "https://localhost:8080/"
        },
        "id": "zZfAARgdF9Er",
        "outputId": "5a4860d6-fb4d-44a7-f7a6-44f218805164"
      },
      "execution_count": 8,
      "outputs": [
        {
          "output_type": "execute_result",
          "data": {
            "text/plain": [
              "<sqlite3.Cursor at 0x7c72ff587c40>"
            ]
          },
          "metadata": {},
          "execution_count": 8
        }
      ]
    },
    {
      "cell_type": "code",
      "source": [
        "c.execute('SELECT * FROM employees WHERE department=\"HR\"')"
      ],
      "metadata": {
        "colab": {
          "base_uri": "https://localhost:8080/"
        },
        "id": "qzdc2DDFGEUt",
        "outputId": "1bd48058-4ae5-465d-f4ae-9966c6d4e0b3"
      },
      "execution_count": 9,
      "outputs": [
        {
          "output_type": "execute_result",
          "data": {
            "text/plain": [
              "<sqlite3.Cursor at 0x7c72ff587c40>"
            ]
          },
          "metadata": {},
          "execution_count": 9
        }
      ]
    },
    {
      "cell_type": "code",
      "source": [
        "print(\"Query plan without index:\", c.fetchall())"
      ],
      "metadata": {
        "colab": {
          "base_uri": "https://localhost:8080/"
        },
        "id": "-tdcKzv-GOKI",
        "outputId": "7ecc6249-7bfa-46be-89ad-a76acaa97765"
      },
      "execution_count": 10,
      "outputs": [
        {
          "output_type": "stream",
          "name": "stdout",
          "text": [
            "Query plan without index: [(1, 'Alice', 'HR', 70000), (3, 'Charlie', 'HR', 75000)]\n"
          ]
        }
      ]
    },
    {
      "cell_type": "code",
      "source": [
        "conn.commit()\n",
        "conn.close()"
      ],
      "metadata": {
        "id": "1jAdvYV4GUB2"
      },
      "execution_count": 11,
      "outputs": []
    },
    {
      "cell_type": "code",
      "source": [
        "import sqlite3"
      ],
      "metadata": {
        "id": "pPgo_vCTGXd7"
      },
      "execution_count": 12,
      "outputs": []
    },
    {
      "cell_type": "code",
      "source": [
        "conn=sqlite3.connect('example.db')\n",
        "c=conn.cursor()"
      ],
      "metadata": {
        "id": "j6s8XYboG0Vw"
      },
      "execution_count": 13,
      "outputs": []
    },
    {
      "cell_type": "code",
      "source": [
        "c.execute('''CREATE TABLE IF NOT EXISTS products (id INTEGER PRIMARY KEY, name TEXT, category TEXT, price INTEGER)''')"
      ],
      "metadata": {
        "colab": {
          "base_uri": "https://localhost:8080/"
        },
        "outputId": "1926f40f-60f8-4bdc-ba95-4a9b15b43e6e",
        "id": "39CRMW2iHBjr"
      },
      "execution_count": 14,
      "outputs": [
        {
          "output_type": "execute_result",
          "data": {
            "text/plain": [
              "<sqlite3.Cursor at 0x7c72ed84af40>"
            ]
          },
          "metadata": {},
          "execution_count": 14
        }
      ]
    },
    {
      "cell_type": "code",
      "source": [
        "sample_data=[(1, 'Laptop', 'Electronics', 1200), (2, 'Chair', 'Furniture', 150), (3, 'Smaretphone', 'Electronics', 800)]"
      ],
      "metadata": {
        "id": "YXtGJDj5HQJx"
      },
      "execution_count": 15,
      "outputs": []
    },
    {
      "cell_type": "code",
      "source": [
        "c.executemany('INSERT INTO products VALUES (?,?,?,?)', sample_data)"
      ],
      "metadata": {
        "colab": {
          "base_uri": "https://localhost:8080/"
        },
        "id": "Gx4mNSujHppm",
        "outputId": "e6b4ae8e-8484-4f05-cacc-bc54421b2879"
      },
      "execution_count": 17,
      "outputs": [
        {
          "output_type": "execute_result",
          "data": {
            "text/plain": [
              "<sqlite3.Cursor at 0x7c72ed84af40>"
            ]
          },
          "metadata": {},
          "execution_count": 17
        }
      ]
    },
    {
      "cell_type": "code",
      "source": [
        "c.execute('SELECT name, price FROM products WHERE category =\"Electronics\"')\n",
        "print('Efficient query results:', c.fetchall())"
      ],
      "metadata": {
        "colab": {
          "base_uri": "https://localhost:8080/"
        },
        "id": "eZ-V1MeIH4XL",
        "outputId": "c17e26c3-b745-4856-ccae-088dc6b6fa3e"
      },
      "execution_count": 18,
      "outputs": [
        {
          "output_type": "stream",
          "name": "stdout",
          "text": [
            "Efficient query results: [('Laptop', 1200), ('Smaretphone', 800)]\n"
          ]
        }
      ]
    },
    {
      "cell_type": "code",
      "source": [
        "conn.commit()\n",
        "conn.close()\n"
      ],
      "metadata": {
        "id": "vdCMtYlhIZqE"
      },
      "execution_count": 19,
      "outputs": []
    },
    {
      "cell_type": "code",
      "source": [
        "import sqlite3\n",
        "conn=sqlite3.connect('example.db')\n",
        "c=conn.cursor()"
      ],
      "metadata": {
        "id": "yDZv0VFXIc9H"
      },
      "execution_count": 20,
      "outputs": []
    },
    {
      "cell_type": "code",
      "source": [
        "c.execute('''CREATE TABLE IF NOT EXISTS orders (id INTEGER PRIMARY KEY, product_id INTEGER, quantity INTEGER)''')"
      ],
      "metadata": {
        "colab": {
          "base_uri": "https://localhost:8080/"
        },
        "outputId": "725aa203-8c5e-4d09-b0e6-0cc13a2d10bd",
        "id": "im-wc4raJsOA"
      },
      "execution_count": 21,
      "outputs": [
        {
          "output_type": "execute_result",
          "data": {
            "text/plain": [
              "<sqlite3.Cursor at 0x7c72ed7007c0>"
            ]
          },
          "metadata": {},
          "execution_count": 21
        }
      ]
    },
    {
      "cell_type": "code",
      "source": [
        "conn.execute('BEGIN TRANSACTION')"
      ],
      "metadata": {
        "colab": {
          "base_uri": "https://localhost:8080/"
        },
        "id": "Q6DW-oNOJ-Ko",
        "outputId": "fd62a6ed-2d19-4261-a771-028c3db4c6e7"
      },
      "execution_count": 22,
      "outputs": [
        {
          "output_type": "execute_result",
          "data": {
            "text/plain": [
              "<sqlite3.Cursor at 0x7c72ed7e5ec0>"
            ]
          },
          "metadata": {},
          "execution_count": 22
        }
      ]
    },
    {
      "cell_type": "code",
      "source": [
        "bulk_data=[(i,i%5+1, i*2) for i in range(1,1001)]\n",
        "c.executemany('INSERT INTO orders VALUES (?,?,?)', bulk_data)"
      ],
      "metadata": {
        "colab": {
          "base_uri": "https://localhost:8080/"
        },
        "id": "oBH8fVITKCBP",
        "outputId": "e2774609-e139-49c1-d886-dcf7cd929c4b"
      },
      "execution_count": 23,
      "outputs": [
        {
          "output_type": "execute_result",
          "data": {
            "text/plain": [
              "<sqlite3.Cursor at 0x7c72ed7007c0>"
            ]
          },
          "metadata": {},
          "execution_count": 23
        }
      ]
    },
    {
      "cell_type": "code",
      "source": [
        "conn.commit()"
      ],
      "metadata": {
        "id": "QZcTl2bNKh7G"
      },
      "execution_count": 24,
      "outputs": []
    },
    {
      "cell_type": "code",
      "source": [
        "c.execute('SELECT COUNT(*) FROM orders')"
      ],
      "metadata": {
        "colab": {
          "base_uri": "https://localhost:8080/"
        },
        "id": "berZRHNBKjk1",
        "outputId": "9e1696a2-60ac-4e5e-df9e-f699eef640f6"
      },
      "execution_count": 25,
      "outputs": [
        {
          "output_type": "execute_result",
          "data": {
            "text/plain": [
              "<sqlite3.Cursor at 0x7c72ed7007c0>"
            ]
          },
          "metadata": {},
          "execution_count": 25
        }
      ]
    },
    {
      "cell_type": "code",
      "source": [
        "print(\"Number of records inserted:\", c.fetchone()[0])"
      ],
      "metadata": {
        "colab": {
          "base_uri": "https://localhost:8080/"
        },
        "id": "K8it6DmqKovw",
        "outputId": "9370f228-5e28-4a1f-c075-e7f8de6f4322"
      },
      "execution_count": 26,
      "outputs": [
        {
          "output_type": "stream",
          "name": "stdout",
          "text": [
            "Number of records inserted: 1000\n"
          ]
        }
      ]
    },
    {
      "cell_type": "code",
      "source": [
        "conn.close()"
      ],
      "metadata": {
        "id": "72CScs3-KwEj"
      },
      "execution_count": 27,
      "outputs": []
    },
    {
      "cell_type": "code",
      "source": [
        "import sqlite3\n",
        "conn=sqlite3.connect('example.db')\n",
        "c=conn.cursor()"
      ],
      "metadata": {
        "id": "deMb3EkPKxvC"
      },
      "execution_count": 28,
      "outputs": []
    },
    {
      "cell_type": "code",
      "source": [
        "c.execute('''CREATE TABLE IF NOT EXISTS students (id INTEGER PRIMARY KEY, name TEXT, class_id INTEGER)''')\n",
        "c.execute('''CREATE TABLE IF NOT EXISTS classes (id INTEGER PRIMARY KEY,  class_name TEXT)''')"
      ],
      "metadata": {
        "colab": {
          "base_uri": "https://localhost:8080/"
        },
        "id": "_UaJDdbDK44p",
        "outputId": "323950f4-ed88-43fa-a059-72911e2e25dd"
      },
      "execution_count": 29,
      "outputs": [
        {
          "output_type": "execute_result",
          "data": {
            "text/plain": [
              "<sqlite3.Cursor at 0x7c72ed701440>"
            ]
          },
          "metadata": {},
          "execution_count": 29
        }
      ]
    },
    {
      "cell_type": "code",
      "source": [
        "students_data=[(1, 'John', 1), (2, 'Emma', 2), (3, 'Harry', 1)]"
      ],
      "metadata": {
        "id": "jy2ndw-tOIac"
      },
      "execution_count": 30,
      "outputs": []
    },
    {
      "cell_type": "code",
      "source": [
        "classes_data=[(1, 'Math'), (2, 'Science')]"
      ],
      "metadata": {
        "id": "xbuqneu7OlYc"
      },
      "execution_count": 31,
      "outputs": []
    },
    {
      "cell_type": "code",
      "source": [
        "c.executemany('INSERT INTO students VALUES (?,?,?)', students_data)\n",
        "c.executemany('INSERT INTO classes VALUES (?,?)', classes_data)"
      ],
      "metadata": {
        "colab": {
          "base_uri": "https://localhost:8080/"
        },
        "id": "XfAFER3gO1G7",
        "outputId": "769d746c-7522-4d0c-810c-559f00116831"
      },
      "execution_count": 32,
      "outputs": [
        {
          "output_type": "execute_result",
          "data": {
            "text/plain": [
              "<sqlite3.Cursor at 0x7c72ed701440>"
            ]
          },
          "metadata": {},
          "execution_count": 32
        }
      ]
    },
    {
      "cell_type": "code",
      "source": [
        "c.execute('''SELECT students.name, classes.class_name\n",
        "              FROM students\n",
        "              JOIN classes ON students.class_id=classes.id''')"
      ],
      "metadata": {
        "colab": {
          "base_uri": "https://localhost:8080/"
        },
        "id": "4q3i7yYaPPCY",
        "outputId": "ea4306ff-7f86-4725-cdb2-6a7e5255866c"
      },
      "execution_count": 33,
      "outputs": [
        {
          "output_type": "execute_result",
          "data": {
            "text/plain": [
              "<sqlite3.Cursor at 0x7c72ed701440>"
            ]
          },
          "metadata": {},
          "execution_count": 33
        }
      ]
    },
    {
      "cell_type": "code",
      "source": [
        "print(\"Join results:\", c.fetchall())"
      ],
      "metadata": {
        "colab": {
          "base_uri": "https://localhost:8080/"
        },
        "id": "wnl9gVfAPf2b",
        "outputId": "a831e0d8-f018-4f3f-9d60-79e49d1de560"
      },
      "execution_count": 34,
      "outputs": [
        {
          "output_type": "stream",
          "name": "stdout",
          "text": [
            "Join results: [('John', 'Math'), ('Emma', 'Science'), ('Harry', 'Math')]\n"
          ]
        }
      ]
    },
    {
      "cell_type": "code",
      "source": [
        "conn.commit()\n",
        "conn.close()"
      ],
      "metadata": {
        "id": "1IOZfsQ3PrBo"
      },
      "execution_count": 35,
      "outputs": []
    },
    {
      "cell_type": "code",
      "source": [
        "import sqlite3\n",
        "conn=sqlite3.connect('example.db')\n",
        "c=conn.cursor()"
      ],
      "metadata": {
        "id": "W529YDnzPuGD"
      },
      "execution_count": 36,
      "outputs": []
    },
    {
      "cell_type": "code",
      "source": [
        "c.execute('PRAGMA journal_mode=WAL')\n",
        "journal_mode=c.fetchone()[0]\n",
        "print(\"Journal mode set to:\", journal_mode)"
      ],
      "metadata": {
        "colab": {
          "base_uri": "https://localhost:8080/"
        },
        "id": "ZB06OD3fQgQA",
        "outputId": "6d988a31-d46b-45c1-e3ef-e435e8a3771f"
      },
      "execution_count": 37,
      "outputs": [
        {
          "output_type": "stream",
          "name": "stdout",
          "text": [
            "Journal mode set to: wal\n"
          ]
        }
      ]
    },
    {
      "cell_type": "code",
      "source": [
        "c.execute('PRAGMA foreign_keys=ON')\n",
        "c.execute('PRAGMA foreign_keys')\n",
        "fk_status=c.fetchone()[0]\n",
        "print(\"Foreign keys status:\", \"Enabled\" if fk_status else \"Disabled\")"
      ],
      "metadata": {
        "colab": {
          "base_uri": "https://localhost:8080/"
        },
        "id": "BTPbqY54RHH2",
        "outputId": "9e7c7068-e644-4ac5-a4b6-c092fbdd1aa5"
      },
      "execution_count": 38,
      "outputs": [
        {
          "output_type": "stream",
          "name": "stdout",
          "text": [
            "Foreign keys status: Enabled\n"
          ]
        }
      ]
    },
    {
      "cell_type": "code",
      "source": [
        "c.execute('PRAGMA synchronous=NORMAL')\n",
        "c.execute('PRAGMA synchronous')\n",
        "sync_mode=c.fetchone()[0]\n",
        "print(\"Synchronous mode set to:\", sync_mode)"
      ],
      "metadata": {
        "colab": {
          "base_uri": "https://localhost:8080/"
        },
        "id": "Oj0m1NkjR6s0",
        "outputId": "8cd0c20a-0318-4858-be6c-13dbad525cad"
      },
      "execution_count": 39,
      "outputs": [
        {
          "output_type": "stream",
          "name": "stdout",
          "text": [
            "Synchronous mode set to: 1\n"
          ]
        }
      ]
    },
    {
      "cell_type": "code",
      "source": [
        "c.execute('PRAGMA cache_size=10000')\n",
        "c.execute('PRAGMA cache_size')\n",
        "cache_size=c.fetchone()[0]\n",
        "print(\"Cache size set to: \", cache_size, \"pages\")"
      ],
      "metadata": {
        "colab": {
          "base_uri": "https://localhost:8080/"
        },
        "id": "-7RCZ3i0SZDc",
        "outputId": "3dc2ecab-fe48-41fd-bf9e-278aed2f2d62"
      },
      "execution_count": 40,
      "outputs": [
        {
          "output_type": "stream",
          "name": "stdout",
          "text": [
            "Cache size set to:  10000 pages\n"
          ]
        }
      ]
    },
    {
      "cell_type": "code",
      "source": [
        "c.execute('PRAGMA page_size')\n",
        "page_size=c.fetchone()[0]\n",
        "c.execute('PRAGMA page_count')\n",
        "page_count=c.fetchone()[0]\n",
        "db_size=page_size*page_count\n",
        "print(\"Database size:\", db_size, \"bytes\")\n"
      ],
      "metadata": {
        "colab": {
          "base_uri": "https://localhost:8080/"
        },
        "id": "8caAspxUSvIo",
        "outputId": "4ea5a563-ba39-44f3-a8ad-fba7e702ef97"
      },
      "execution_count": 41,
      "outputs": [
        {
          "output_type": "stream",
          "name": "stdout",
          "text": [
            "Database size: 36864 bytes\n"
          ]
        }
      ]
    },
    {
      "cell_type": "code",
      "source": [
        "conn.close()"
      ],
      "metadata": {
        "id": "R_za-n0_TQ30"
      },
      "execution_count": 42,
      "outputs": []
    },
    {
      "cell_type": "code",
      "source": [],
      "metadata": {
        "id": "fJnCNXjFTSop"
      },
      "execution_count": null,
      "outputs": []
    }
  ]
}